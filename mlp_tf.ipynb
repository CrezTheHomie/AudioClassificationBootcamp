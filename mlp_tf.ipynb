{
 "cells": [
  {
   "attachments": {},
   "cell_type": "markdown",
   "metadata": {},
   "source": [
    "Simple Neural Network with Tensorflow and Jupyter."
   ]
  },
  {
   "cell_type": "code",
   "execution_count": 32,
   "metadata": {},
   "outputs": [],
   "source": [
    "import tensorflow as tf\n",
    "import numpy as np\n",
    "from sklearn.model_selection import train_test_split\n",
    "from random import random"
   ]
  },
  {
   "attachments": {},
   "cell_type": "markdown",
   "metadata": {},
   "source": [
    "Create random data set. Neural net is going to learn to sum 2 numbers."
   ]
  },
  {
   "cell_type": "code",
   "execution_count": 33,
   "metadata": {},
   "outputs": [],
   "source": [
    "def generate_dataset(num_samples, size_of_test):\n",
    "    x = np.array([[random()/2 for _ in range (2)] for _ in range (num_samples)])\n",
    "    y = np.array([[i[0]+i[1]] for i in x])\n",
    "    x_train, x_test, y_train, y_test = train_test_split(x, y, test_size=size_of_test)\n",
    "    return x_train, x_test, y_train, y_test\n"
   ]
  },
  {
   "cell_type": "code",
   "execution_count": 34,
   "metadata": {},
   "outputs": [
    {
     "name": "stdout",
     "output_type": "stream",
     "text": [
      "x_test: \n",
      " [[0.31274869 0.4584215 ]\n",
      " [0.33759578 0.1463976 ]\n",
      " [0.01008766 0.24713237]\n",
      " ...\n",
      " [0.26747191 0.43367457]\n",
      " [0.42087687 0.08102903]\n",
      " [0.17823091 0.31760216]]\n"
     ]
    }
   ],
   "source": [
    "x_train, x_test, y_train, y_test = generate_dataset(3000, 0.2)\n",
    "print(\"x_test: \\n {}\".format(x_test))"
   ]
  },
  {
   "attachments": {},
   "cell_type": "markdown",
   "metadata": {},
   "source": [
    "Build the model 2 -> 5 -> 1"
   ]
  },
  {
   "cell_type": "code",
   "execution_count": 35,
   "metadata": {},
   "outputs": [],
   "source": [
    "model = tf.keras.Sequential([\n",
    "    tf.keras.layers.Dense(5, input_dim=2, activation=\"sigmoid\"),\n",
    "    tf.keras.layers.Dense(1, activation=\"sigmoid\")\n",
    "])"
   ]
  },
  {
   "attachments": {},
   "cell_type": "markdown",
   "metadata": {},
   "source": [
    "Compile the model"
   ]
  },
  {
   "cell_type": "code",
   "execution_count": 36,
   "metadata": {},
   "outputs": [],
   "source": [
    "model.compile(optimizer=tf.keras.optimizers.SGD(learning_rate=0.1), loss=\"MSE\")"
   ]
  },
  {
   "attachments": {},
   "cell_type": "markdown",
   "metadata": {},
   "source": [
    "Train model"
   ]
  },
  {
   "cell_type": "code",
   "execution_count": 37,
   "metadata": {},
   "outputs": [
    {
     "name": "stdout",
     "output_type": "stream",
     "text": [
      "Epoch 1/100\n",
      "75/75 [==============================] - 0s 622us/step - loss: 0.0449\n",
      "Epoch 2/100\n",
      "75/75 [==============================] - 0s 582us/step - loss: 0.0408\n",
      "Epoch 3/100\n",
      "75/75 [==============================] - 0s 595us/step - loss: 0.0405\n",
      "Epoch 4/100\n",
      "75/75 [==============================] - 0s 582us/step - loss: 0.0403\n",
      "Epoch 5/100\n",
      "75/75 [==============================] - 0s 568us/step - loss: 0.0400\n",
      "Epoch 6/100\n",
      "75/75 [==============================] - 0s 582us/step - loss: 0.0398\n",
      "Epoch 7/100\n",
      "75/75 [==============================] - 0s 568us/step - loss: 0.0396\n",
      "Epoch 8/100\n",
      "75/75 [==============================] - 0s 595us/step - loss: 0.0393\n",
      "Epoch 9/100\n",
      "75/75 [==============================] - 0s 582us/step - loss: 0.0390\n",
      "Epoch 10/100\n",
      "75/75 [==============================] - 0s 582us/step - loss: 0.0388\n",
      "Epoch 11/100\n",
      "75/75 [==============================] - 0s 582us/step - loss: 0.0385\n",
      "Epoch 12/100\n",
      "75/75 [==============================] - 0s 582us/step - loss: 0.0382\n",
      "Epoch 13/100\n",
      "75/75 [==============================] - 0s 582us/step - loss: 0.0379\n",
      "Epoch 14/100\n",
      "75/75 [==============================] - 0s 582us/step - loss: 0.0377\n",
      "Epoch 15/100\n",
      "75/75 [==============================] - 0s 582us/step - loss: 0.0374\n",
      "Epoch 16/100\n",
      "75/75 [==============================] - 0s 568us/step - loss: 0.0370\n",
      "Epoch 17/100\n",
      "75/75 [==============================] - 0s 568us/step - loss: 0.0368\n",
      "Epoch 18/100\n",
      "75/75 [==============================] - 0s 582us/step - loss: 0.0364\n",
      "Epoch 19/100\n",
      "75/75 [==============================] - 0s 568us/step - loss: 0.0361\n",
      "Epoch 20/100\n",
      "75/75 [==============================] - 0s 568us/step - loss: 0.0358\n",
      "Epoch 21/100\n",
      "75/75 [==============================] - 0s 582us/step - loss: 0.0354\n",
      "Epoch 22/100\n",
      "75/75 [==============================] - 0s 595us/step - loss: 0.0351\n",
      "Epoch 23/100\n",
      "75/75 [==============================] - 0s 582us/step - loss: 0.0347\n",
      "Epoch 24/100\n",
      "75/75 [==============================] - 0s 582us/step - loss: 0.0344\n",
      "Epoch 25/100\n",
      "75/75 [==============================] - 0s 582us/step - loss: 0.0340\n",
      "Epoch 26/100\n",
      "75/75 [==============================] - 0s 582us/step - loss: 0.0336\n",
      "Epoch 27/100\n",
      "75/75 [==============================] - 0s 582us/step - loss: 0.0332\n",
      "Epoch 28/100\n",
      "75/75 [==============================] - 0s 582us/step - loss: 0.0328\n",
      "Epoch 29/100\n",
      "75/75 [==============================] - 0s 568us/step - loss: 0.0324\n",
      "Epoch 30/100\n",
      "75/75 [==============================] - 0s 568us/step - loss: 0.0319\n",
      "Epoch 31/100\n",
      "75/75 [==============================] - 0s 582us/step - loss: 0.0315\n",
      "Epoch 32/100\n",
      "75/75 [==============================] - 0s 595us/step - loss: 0.0310\n",
      "Epoch 33/100\n",
      "75/75 [==============================] - 0s 595us/step - loss: 0.0306\n",
      "Epoch 34/100\n",
      "75/75 [==============================] - 0s 582us/step - loss: 0.0301\n",
      "Epoch 35/100\n",
      "75/75 [==============================] - 0s 582us/step - loss: 0.0297\n",
      "Epoch 36/100\n",
      "75/75 [==============================] - 0s 555us/step - loss: 0.0292\n",
      "Epoch 37/100\n",
      "75/75 [==============================] - 0s 568us/step - loss: 0.0287\n",
      "Epoch 38/100\n",
      "75/75 [==============================] - 0s 595us/step - loss: 0.0282\n",
      "Epoch 39/100\n",
      "75/75 [==============================] - 0s 555us/step - loss: 0.0277\n",
      "Epoch 40/100\n",
      "75/75 [==============================] - 0s 582us/step - loss: 0.0271\n",
      "Epoch 41/100\n",
      "75/75 [==============================] - 0s 582us/step - loss: 0.0266\n",
      "Epoch 42/100\n",
      "75/75 [==============================] - 0s 582us/step - loss: 0.0261\n",
      "Epoch 43/100\n",
      "75/75 [==============================] - 0s 582us/step - loss: 0.0255\n",
      "Epoch 44/100\n",
      "75/75 [==============================] - 0s 595us/step - loss: 0.0250\n",
      "Epoch 45/100\n",
      "75/75 [==============================] - 0s 582us/step - loss: 0.0244\n",
      "Epoch 46/100\n",
      "75/75 [==============================] - 0s 582us/step - loss: 0.0239\n",
      "Epoch 47/100\n",
      "75/75 [==============================] - 0s 582us/step - loss: 0.0233\n",
      "Epoch 48/100\n",
      "75/75 [==============================] - 0s 582us/step - loss: 0.0228\n",
      "Epoch 49/100\n",
      "75/75 [==============================] - 0s 568us/step - loss: 0.0222\n",
      "Epoch 50/100\n",
      "75/75 [==============================] - 0s 568us/step - loss: 0.0216\n",
      "Epoch 51/100\n",
      "75/75 [==============================] - 0s 582us/step - loss: 0.0211\n",
      "Epoch 52/100\n",
      "75/75 [==============================] - 0s 582us/step - loss: 0.0205\n",
      "Epoch 53/100\n",
      "75/75 [==============================] - 0s 582us/step - loss: 0.0199\n",
      "Epoch 54/100\n",
      "75/75 [==============================] - 0s 582us/step - loss: 0.0193\n",
      "Epoch 55/100\n",
      "75/75 [==============================] - 0s 582us/step - loss: 0.0188\n",
      "Epoch 56/100\n",
      "75/75 [==============================] - 0s 582us/step - loss: 0.0182\n",
      "Epoch 57/100\n",
      "75/75 [==============================] - 0s 568us/step - loss: 0.0177\n",
      "Epoch 58/100\n",
      "75/75 [==============================] - 0s 582us/step - loss: 0.0171\n",
      "Epoch 59/100\n",
      "75/75 [==============================] - 0s 568us/step - loss: 0.0166\n",
      "Epoch 60/100\n",
      "75/75 [==============================] - 0s 595us/step - loss: 0.0160\n",
      "Epoch 61/100\n",
      "75/75 [==============================] - 0s 582us/step - loss: 0.0155\n",
      "Epoch 62/100\n",
      "75/75 [==============================] - 0s 582us/step - loss: 0.0150\n",
      "Epoch 63/100\n",
      "75/75 [==============================] - 0s 568us/step - loss: 0.0144\n",
      "Epoch 64/100\n",
      "75/75 [==============================] - 0s 568us/step - loss: 0.0139\n",
      "Epoch 65/100\n",
      "75/75 [==============================] - 0s 595us/step - loss: 0.0134\n",
      "Epoch 66/100\n",
      "75/75 [==============================] - 0s 568us/step - loss: 0.0130\n",
      "Epoch 67/100\n",
      "75/75 [==============================] - 0s 582us/step - loss: 0.0125\n",
      "Epoch 68/100\n",
      "75/75 [==============================] - 0s 582us/step - loss: 0.0120\n",
      "Epoch 69/100\n",
      "75/75 [==============================] - 0s 582us/step - loss: 0.0116\n",
      "Epoch 70/100\n",
      "75/75 [==============================] - 0s 582us/step - loss: 0.0111\n",
      "Epoch 71/100\n",
      "75/75 [==============================] - 0s 595us/step - loss: 0.0107\n",
      "Epoch 72/100\n",
      "75/75 [==============================] - 0s 703us/step - loss: 0.0103\n",
      "Epoch 73/100\n",
      "75/75 [==============================] - 0s 622us/step - loss: 0.0099\n",
      "Epoch 74/100\n",
      "75/75 [==============================] - 0s 582us/step - loss: 0.0095\n",
      "Epoch 75/100\n",
      "75/75 [==============================] - 0s 595us/step - loss: 0.0091\n",
      "Epoch 76/100\n",
      "75/75 [==============================] - 0s 582us/step - loss: 0.0087\n",
      "Epoch 77/100\n",
      "75/75 [==============================] - 0s 582us/step - loss: 0.0084\n",
      "Epoch 78/100\n",
      "75/75 [==============================] - 0s 582us/step - loss: 0.0080\n",
      "Epoch 79/100\n",
      "75/75 [==============================] - 0s 582us/step - loss: 0.0077\n",
      "Epoch 80/100\n",
      "75/75 [==============================] - 0s 582us/step - loss: 0.0074\n",
      "Epoch 81/100\n",
      "75/75 [==============================] - 0s 568us/step - loss: 0.0071\n",
      "Epoch 82/100\n",
      "75/75 [==============================] - 0s 582us/step - loss: 0.0068\n",
      "Epoch 83/100\n",
      "75/75 [==============================] - 0s 582us/step - loss: 0.0065\n",
      "Epoch 84/100\n",
      "75/75 [==============================] - 0s 582us/step - loss: 0.0062\n",
      "Epoch 85/100\n",
      "75/75 [==============================] - 0s 595us/step - loss: 0.0059\n",
      "Epoch 86/100\n",
      "75/75 [==============================] - 0s 636us/step - loss: 0.0057\n",
      "Epoch 87/100\n",
      "75/75 [==============================] - 0s 582us/step - loss: 0.0054\n",
      "Epoch 88/100\n",
      "75/75 [==============================] - 0s 582us/step - loss: 0.0052\n",
      "Epoch 89/100\n",
      "75/75 [==============================] - 0s 582us/step - loss: 0.0050\n",
      "Epoch 90/100\n",
      "75/75 [==============================] - 0s 582us/step - loss: 0.0048\n",
      "Epoch 91/100\n",
      "75/75 [==============================] - 0s 595us/step - loss: 0.0046\n",
      "Epoch 92/100\n",
      "75/75 [==============================] - 0s 582us/step - loss: 0.0044\n",
      "Epoch 93/100\n",
      "75/75 [==============================] - 0s 568us/step - loss: 0.0042\n",
      "Epoch 94/100\n",
      "75/75 [==============================] - 0s 582us/step - loss: 0.0040\n",
      "Epoch 95/100\n",
      "75/75 [==============================] - 0s 636us/step - loss: 0.0038\n",
      "Epoch 96/100\n",
      "75/75 [==============================] - 0s 622us/step - loss: 0.0037\n",
      "Epoch 97/100\n",
      "75/75 [==============================] - 0s 582us/step - loss: 0.0035\n",
      "Epoch 98/100\n",
      "75/75 [==============================] - 0s 595us/step - loss: 0.0034\n",
      "Epoch 99/100\n",
      "75/75 [==============================] - 0s 609us/step - loss: 0.0032\n",
      "Epoch 100/100\n",
      "75/75 [==============================] - 0s 595us/step - loss: 0.0031\n"
     ]
    },
    {
     "data": {
      "text/plain": [
       "<keras.callbacks.History at 0x1ba4e7b6e80>"
      ]
     },
     "execution_count": 37,
     "metadata": {},
     "output_type": "execute_result"
    }
   ],
   "source": [
    "model.fit(x_train, y_train, epochs=100)"
   ]
  },
  {
   "attachments": {},
   "cell_type": "markdown",
   "metadata": {},
   "source": [
    "Evaluate the model"
   ]
  },
  {
   "cell_type": "code",
   "execution_count": 38,
   "metadata": {},
   "outputs": [
    {
     "name": "stdout",
     "output_type": "stream",
     "text": [
      "19/19 [==============================] - 0s 667us/step - loss: 0.0029\n"
     ]
    },
    {
     "data": {
      "text/plain": [
       "0.002943639876320958"
      ]
     },
     "execution_count": 38,
     "metadata": {},
     "output_type": "execute_result"
    }
   ],
   "source": [
    "model.evaluate(x_test, y_test, verbose=1)"
   ]
  },
  {
   "attachments": {},
   "cell_type": "markdown",
   "metadata": {},
   "source": [
    "Make Predictions"
   ]
  },
  {
   "cell_type": "code",
   "execution_count": 39,
   "metadata": {},
   "outputs": [
    {
     "name": "stdout",
     "output_type": "stream",
     "text": [
      "1/1 [==============================] - 0s 32ms/step\n",
      "0.5 + 0.5 = [0.8096214]\n",
      "0.9 + 0.1 = [0.82120734]\n"
     ]
    }
   ],
   "source": [
    "new_data = np.array([[0.5, 0.5], [0.9, 0.1]]) \n",
    "predictions = model.predict(new_data)\n",
    "\n",
    "for d, p in zip(new_data,predictions):\n",
    "    print(\"{} + {} = {}\".format(d[0], d[1], p,[0]))"
   ]
  }
 ],
 "metadata": {
  "kernelspec": {
   "display_name": "Python 3",
   "language": "python",
   "name": "python3"
  },
  "language_info": {
   "codemirror_mode": {
    "name": "ipython",
    "version": 3
   },
   "file_extension": ".py",
   "mimetype": "text/x-python",
   "name": "python",
   "nbconvert_exporter": "python",
   "pygments_lexer": "ipython3",
   "version": "3.9.1"
  },
  "orig_nbformat": 4,
  "vscode": {
   "interpreter": {
    "hash": "772f66837d71377a9e91bdceabcb0d3cb18014278592638634865ba084916021"
   }
  }
 },
 "nbformat": 4,
 "nbformat_minor": 2
}
